{
 "cells": [
  {
   "cell_type": "raw",
   "metadata": {},
   "source": [
    "Name:  p5369aWGFracNSPPOsc\n",
    "Number of records: 2551605\n",
    "Number of columns: 13\n",
    "\n",
    "\n",
    "-------------------------------------------------\n",
    "|           Name|           Unit|        Records|\n",
    "-------------------------------------------------\n",
    "|       Ver_disp|             it|        2551605|\n",
    "|       Ver_load|             it|        2551605|\n",
    "|       hor_disp|             um|        2551605|\n",
    "|        Hstress|           MPai|        2551605|\n",
    "|             Pc|            MPa|        2551605|\n",
    "|        Pc_load|             it|        2551605|\n",
    "|       Ppa_disp|             um|        2551605|\n",
    "|       Ppa_load|             it|        2551605|\n",
    "|             Pp|            MPa|        2551605|\n",
    "|        Pp_load|             it|        2551605|\n",
    "|       Int_disp|             um|        2551605|\n",
    "|           Sync|              V|        2551605|\n",
    "|           Time|            sec|        2551605|\n",
    "-------------------------------------------------"
   ]
  },
  {
   "cell_type": "code",
   "execution_count": 1,
   "metadata": {},
   "outputs": [],
   "source": [
    "import matplotlib.pyplot as plt\n",
    "import numpy as np\n",
    "from perm_funcs import movingmean, getcoef, movingslope"
   ]
  },
  {
   "cell_type": "code",
   "execution_count": 4,
   "metadata": {},
   "outputs": [
    {
     "name": "stderr",
     "output_type": "stream",
     "text": [
      "/Users/clay/Library/Python/3.7/lib/python/site-packages/ipykernel_launcher.py:80: RuntimeWarning: divide by zero encountered in true_divide\n",
      "/Users/clay/Library/Python/3.7/lib/python/site-packages/ipykernel_launcher.py:81: RuntimeWarning: invalid value encountered in greater\n",
      "/Users/clay/Library/Python/3.7/lib/python/site-packages/ipykernel_launcher.py:82: RuntimeWarning: invalid value encountered in less_equal\n"
     ]
    }
   ],
   "source": [
    "dat = np.load('p5369a_data_npz.npz')['arr_0']\n",
    "\n",
    "[Hdisp, Hload, Pc, Pc_load, Ppa_disp, Ppa_load, Ppb_disp, Ppb_load, Int_disp, time] = list(map(lambda x: dat[:,x], [2,3,4,5,6,7,8,9,10,12]));\n",
    "del dat \n",
    "\n",
    "Pp_diff = (Ppa_load - Ppb_load) * 1e6 + 1e-18;\n",
    "\n",
    "# Low pass filter Ppa_Disp and Ppb_Disp\n",
    "\n",
    "# split data based on sampling rate\n",
    "sampfreq = 1/np.diff(time)\n",
    "sampfreq = np.append(sampfreq,1)\n",
    "\n",
    "# idxfs1e4only = np.where(np.logical_and(sampfreq > 9000, sampfreq < 11000))\n",
    "idxfs1000only = np.where(sampfreq > 900)\n",
    "idxfs100only = np.where(np.logical_and(sampfreq > 90, sampfreq < 110))\n",
    "\n",
    "\n",
    "# moving average\n",
    "\n",
    "PpDiff1000only = Pp_diff[idxfs1000only];\n",
    "PpDiff100only = Pp_diff[idxfs100only];\n",
    "\n",
    "mmPpDiff1000only = movingmean(PpDiff1000only,1001);\n",
    "mmPpDiff100only = movingmean(PpDiff100only,101);\n",
    "\n",
    "mmPpDiff = np.copy(Pp_diff);\n",
    "mmPpDiff[idxfs1000only] = mmPpDiff1000only;\n",
    "mmPpDiff[idxfs100only] = mmPpDiff100only;\n",
    "\n",
    "Ppa_disp100only = Ppa_disp[idxfs100only];\n",
    "Ppb_disp100only = Ppb_disp[idxfs100only];\n",
    "Ppa_disp1000only = Ppa_disp[idxfs1000only];\n",
    "Ppb_disp1000only = Ppb_disp[idxfs1000only];\n",
    "\n",
    "msPpa_disp1000only = movingslope(Ppa_disp1000only,1001); \n",
    "msPpb_disp1000only = movingslope(Ppb_disp1000only,1001);\n",
    "\n",
    "msPpa_disp100only = movingslope(Ppa_disp100only,101); \n",
    "msPpb_disp100only = movingslope(Ppb_disp100only,101);\n",
    "\n",
    "# init ms vectors\n",
    "msPpa_disp = Ppa_disp;\n",
    "msPpb_disp = Ppb_disp;\n",
    "\n",
    "# replace by filtered data\n",
    "msPpa_disp[idxfs1000only] = msPpa_disp1000only;\n",
    "msPpb_disp[idxfs1000only] = msPpb_disp1000only;\n",
    "\n",
    "msPpa_disp[idxfs100only] = msPpa_disp100only;\n",
    "msPpb_disp[idxfs100only] = msPpb_disp100only;\n",
    "\n",
    "\n",
    "piston_diameter = 0.0254; #in m\n",
    "piston_area = np.pi * (piston_diameter/2)**2; # in m^2\n",
    "# piston_volume = np.diff(Ppa_dispLPF)*piston_area/1e6; # in m^3\n",
    "\n",
    "piston_vol_a = -msPpa_disp*piston_area/1e6; # in m^3;\n",
    "piston_vol_b =  msPpb_disp*piston_area/1e6; # in m^3;\n",
    "\n",
    "Qa_new = piston_vol_a/np.append(np.diff(time),np.nan); # flow rate in m^3/s\n",
    "Qb_new = piston_vol_b/np.append(np.diff(time), np.nan); # flow rate in m^3/s\n",
    "\n",
    "Qavg_new = (Qa_new + Qb_new)/2;\n",
    "\n",
    "width = 44.831; #mm\n",
    "InitTh = 26.15; #mm\n",
    "# Fracture plane length x thickness 44.831 x 26.15 = 0.00117233065 m^2\n",
    "A = width*InitTh*1e-6; # in m^2\n",
    "# flow length is 0.05 m\n",
    "L = 0.05; # in m\n",
    "viscosity = 1e-3; # in Pa.s\n",
    "\n",
    "Perm_new = viscosity*L/A*Qavg_new/mmPpDiff;\n",
    "\n",
    "# remove perm data when flow is not steady, when SNR is too low and during oscillations\n",
    "max_flow_diff_percent = 100;  # in . Remove perm whenever inlet and outlet are off by this number\n",
    "min_flow = 0e-8; # in m^3/s. Minimum flow\n",
    "\n",
    "Qdiff = (Qa_new-Qb_new)/Qa_new*100; # flow rate difference in percent\n",
    "Perm_new[np.abs(Qdiff) > max_flow_diff_percent] = np.nan; # difference in flow is too large between inlet and outlet\n",
    "Perm_new[np.logical_or(Qa_new <= min_flow, Qb_new <= min_flow)] = np.nan; # flow is too low to be meaningful (SNR too low)"
   ]
  },
  {
   "cell_type": "code",
   "execution_count": 6,
   "metadata": {},
   "outputs": [
    {
     "data": {
      "application/vnd.jupyter.widget-view+json": {
       "model_id": "09c923c6230a49c8a838a0c35395be2c",
       "version_major": 2,
       "version_minor": 0
      },
      "text/plain": [
       "Canvas(toolbar=Toolbar(toolitems=[('Home', 'Reset original view', 'home', 'home'), ('Back', 'Back to previous …"
      ]
     },
     "metadata": {},
     "output_type": "display_data"
    }
   ],
   "source": [
    "%matplotlib ipympl\n",
    "# %matplotlib inline\n",
    "\n",
    "fig, ax1 = plt.subplots(1,1,figsize=(15,8)) #,dpi=300)\n",
    "ax2 = ax1.twinx()\n",
    "\n",
    "ax1.plot(time, Qa_new, c='navy', ls='-', lw=1)\n",
    "ax2.plot(time, Qb_new, c='royalblue', ls='-', lw=1)\n",
    "# plt.ylim([-10e-7,10e-7])\n",
    "# ax2.plot(time[500:], Hdisp[500:], c='r',ls='-',lw=1)\n",
    "\n",
    "# ax2.spines['left'].set_color('blue')\n",
    "# ax1.tick_params(axis='y', colors='blue')\n",
    "\n",
    "# ax2.spines['right'].set_color('red')\n",
    "# ax2.tick_params(axis='y', colors='red')\n",
    "ax1.set_ylim([-4e-7, 4e-7])\n",
    "# ax2.set_ylim([])\n",
    "plt.xlim([17500, 29000])\n",
    "ax1.set_xlabel('Time (s)')\n",
    "ax1.set_ylabel('$Q_A\\ (m^3/s)$', color='navy')\n",
    "ax2.set_ylabel('$Q_B\\ (m^3/s)$', color='royalblue')\n",
    "# ax2.set_ylabel('Hor. Disp. ($\\mu m$)', color='r')\n",
    "# ax2.set_ylabel('permeability ($m^2$)')\n",
    "\n",
    "plt.show()"
   ]
  },
  {
   "cell_type": "code",
   "execution_count": 7,
   "metadata": {},
   "outputs": [
    {
     "data": {
      "application/vnd.jupyter.widget-view+json": {
       "model_id": "179573466fe245b3a2a52c1eb49c9154",
       "version_major": 2,
       "version_minor": 0
      },
      "text/plain": [
       "Canvas(toolbar=Toolbar(toolitems=[('Home', 'Reset original view', 'home', 'home'), ('Back', 'Back to previous …"
      ]
     },
     "metadata": {},
     "output_type": "display_data"
    }
   ],
   "source": [
    "%matplotlib ipympl\n",
    "# %matplotlib inline\n",
    "\n",
    "fig, ax1 = plt.subplots(1,1,figsize=(15,8)) #,dpi=300)\n",
    "# ax2 = ax1.twinx()\n",
    "\n",
    "ax1.plot(time, Perm_new, c='g',ls='-',lw=1)\n",
    "\n",
    "plt.ylim([-0.1e-21, 5e-21])\n",
    "plt.xlim([17500, 29000])\n",
    "ax1.set_xlabel('Time (s)')\n",
    "ax1.set_ylabel('Permeability ($m^2/s$)')\n",
    "# ax2.set_ylabel('Hor. Disp. ($\\mu m$)', color='r')\n",
    "# ax2.set_ylabel('permeability ($m^2$)')\n",
    "\n",
    "plt.show()"
   ]
  },
  {
   "cell_type": "code",
   "execution_count": null,
   "metadata": {},
   "outputs": [],
   "source": []
  }
 ],
 "metadata": {
  "kernelspec": {
   "display_name": "Python 3",
   "language": "python",
   "name": "python3"
  },
  "language_info": {
   "codemirror_mode": {
    "name": "ipython",
    "version": 3
   },
   "file_extension": ".py",
   "mimetype": "text/x-python",
   "name": "python",
   "nbconvert_exporter": "python",
   "pygments_lexer": "ipython3",
   "version": "3.7.3"
  }
 },
 "nbformat": 4,
 "nbformat_minor": 4
}
