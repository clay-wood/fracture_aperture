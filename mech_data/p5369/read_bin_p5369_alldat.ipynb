{
 "cells": [
  {
   "cell_type": "code",
   "execution_count": 1,
   "metadata": {},
   "outputs": [],
   "source": [
    "from ReadBinBiax import *"
   ]
  },
  {
   "cell_type": "markdown",
   "metadata": {},
   "source": [
    "## Part A"
   ]
  },
  {
   "cell_type": "code",
   "execution_count": 2,
   "metadata": {},
   "outputs": [
    {
     "name": "stdout",
     "output_type": "stream",
     "text": [
      "\n",
      "Name:  p5369WGFracNSPPOsc\n",
      "Number of records: 2551605\n",
      "Number of columns: 13\n",
      "\n",
      "\n",
      "-------------------------------------------------\n",
      "|           Name|           Unit|        Records|\n",
      "-------------------------------------------------\n",
      "|       Ver_disp|             it|        2551605|\n",
      "|       Ver_load|             it|        2551605|\n",
      "|       hor_disp|             um|        2551605|\n",
      "|        Hstress|           MPai|        2551605|\n",
      "|             Pc|            MPa|        2551605|\n",
      "|        Pc_load|             it|        2551605|\n",
      "|       Ppa_disp|             um|        2551605|\n",
      "|       Ppa_load|             it|        2551605|\n",
      "|             Pp|            MPa|        2551605|\n",
      "|        Pp_load|             it|        2551605|\n",
      "|       Int_disp|             um|        2551605|\n",
      "|           Sync|              V|        2551605|\n",
      "|           Time|            sec|        2551605|\n",
      "-------------------------------------------------\n"
     ]
    }
   ],
   "source": [
    "p5369adat = ReadBinBiax('/Users/clay/Documents/research/fracture_aperture/mech_data/p5369/p5369a_data_bin','little')"
   ]
  },
  {
   "cell_type": "code",
   "execution_count": 3,
   "metadata": {},
   "outputs": [],
   "source": [
    "np.savez('/Users/clay/Documents/research/fracture_aperture/mech_data/p5369/p5369a_data_npz',p5369adat)\n",
    "del p5369adat"
   ]
  },
  {
   "cell_type": "markdown",
   "metadata": {},
   "source": [
    "## Part B"
   ]
  },
  {
   "cell_type": "code",
   "execution_count": 4,
   "metadata": {},
   "outputs": [
    {
     "name": "stdout",
     "output_type": "stream",
     "text": [
      "\n",
      "Name:  p5369WGFracNSPPOscb\n",
      "Number of records: 1246917\n",
      "Number of columns: 13\n",
      "\n",
      "\n",
      "-------------------------------------------------\n",
      "|           Name|           Unit|        Records|\n",
      "-------------------------------------------------\n",
      "|       Ver_disp|             it|        1246917|\n",
      "|       Ver_load|             it|        1246917|\n",
      "|        HorDisp|             um|        1246917|\n",
      "|      HorStress|            MPa|        1246917|\n",
      "|         PcDisp|             um|        1246917|\n",
      "|       PcStress|            MPa|        1246917|\n",
      "|        PpaDisp|             um|        1246917|\n",
      "|      PpaStress|            MPa|        1246917|\n",
      "|         PpDisp|             um|        1246917|\n",
      "|       PpStress|            MPa|        1246917|\n",
      "|        IntDisp|             um|        1246917|\n",
      "|           Sync|              V|        1246917|\n",
      "|           Time|            sec|        1246917|\n",
      "-------------------------------------------------\n"
     ]
    }
   ],
   "source": [
    "p5369bdat = ReadBinBiax('/Users/clay/Documents/research/fracture_aperture/mech_data/p5369/p5369b_data_bin','little')"
   ]
  },
  {
   "cell_type": "code",
   "execution_count": 5,
   "metadata": {},
   "outputs": [],
   "source": [
    "np.savez('/Users/clay/Documents/research/fracture_aperture/mech_data/p5369/p5369b_data_npz',p5369bdat)\n",
    "del p5369bdat"
   ]
  },
  {
   "cell_type": "markdown",
   "metadata": {},
   "source": [
    "## Part C"
   ]
  },
  {
   "cell_type": "code",
   "execution_count": 6,
   "metadata": {},
   "outputs": [
    {
     "name": "stdout",
     "output_type": "stream",
     "text": [
      "\n",
      "Name:  p5369WGFracNSPPOscc\n",
      "Number of records: 1199847\n",
      "Number of columns: 13\n",
      "\n",
      "\n",
      "-------------------------------------------------\n",
      "|           Name|           Unit|        Records|\n",
      "-------------------------------------------------\n",
      "|       Ver_disp|             it|        1199847|\n",
      "|       Ver_load|             it|        1199847|\n",
      "|        HorDisp|             um|        1199847|\n",
      "|      HorStress|            MPa|        1199847|\n",
      "|         PcDisp|             um|        1199847|\n",
      "|       PcStress|            MPa|        1199847|\n",
      "|        PpaDisp|             um|        1199847|\n",
      "|      PpaStress|            MPa|        1199847|\n",
      "|         PpDisp|             um|        1199847|\n",
      "|       PpStress|            MPa|        1199847|\n",
      "|        IntDisp|             um|        1199847|\n",
      "|           Sync|              V|        1199847|\n",
      "|           Time|            sec|        1199847|\n",
      "-------------------------------------------------\n"
     ]
    }
   ],
   "source": [
    "p5369cdat = ReadBinBiax('/Users/clay/Documents/research/fracture_aperture/mech_data/p5369/p5369c_data_bin','little')"
   ]
  },
  {
   "cell_type": "code",
   "execution_count": 7,
   "metadata": {},
   "outputs": [],
   "source": [
    "np.savez('/Users/clay/Documents/research/fracture_aperture/mech_data/p5369/p5369c_data_npz',p5369cdat)\n",
    "del p5369cdat"
   ]
  },
  {
   "cell_type": "markdown",
   "metadata": {},
   "source": [
    "## Part D"
   ]
  },
  {
   "cell_type": "code",
   "execution_count": 8,
   "metadata": {},
   "outputs": [
    {
     "name": "stdout",
     "output_type": "stream",
     "text": [
      "\n",
      "Name:  p5369WGFracNSPPOscd\n",
      "Number of records: 1264392\n",
      "Number of columns: 13\n",
      "\n",
      "\n",
      "-------------------------------------------------\n",
      "|           Name|           Unit|        Records|\n",
      "-------------------------------------------------\n",
      "|       Ver_disp|             it|        1264392|\n",
      "|       Ver_load|             it|        1264392|\n",
      "|        HorDisp|             um|        1264392|\n",
      "|      HorStress|            MPa|        1264392|\n",
      "|         PcDisp|             um|        1264392|\n",
      "|       PcStress|            MPa|        1264392|\n",
      "|        PpaDisp|             um|        1264392|\n",
      "|      PpaStress|            MPa|        1264392|\n",
      "|         PpDisp|             um|        1264392|\n",
      "|       PpStress|            MPa|        1264392|\n",
      "|        IntDisp|             um|        1264392|\n",
      "|           Sync|              V|        1264392|\n",
      "|           Time|            sec|        1264392|\n",
      "-------------------------------------------------\n"
     ]
    }
   ],
   "source": [
    "p5369ddat = ReadBinBiax('/Users/clay/Documents/research/fracture_aperture/mech_data/p5369/p5369d_data_bin','little')"
   ]
  },
  {
   "cell_type": "code",
   "execution_count": 9,
   "metadata": {},
   "outputs": [],
   "source": [
    "np.savez('/Users/clay/Documents/research/fracture_aperture/mech_data/p5369/p5369d_data_npz',p5369ddat)\n",
    "del p5369ddat"
   ]
  },
  {
   "cell_type": "code",
   "execution_count": null,
   "metadata": {},
   "outputs": [],
   "source": []
  }
 ],
 "metadata": {
  "kernelspec": {
   "display_name": "Python 3",
   "language": "python",
   "name": "python3"
  },
  "language_info": {
   "codemirror_mode": {
    "name": "ipython",
    "version": 3
   },
   "file_extension": ".py",
   "mimetype": "text/x-python",
   "name": "python",
   "nbconvert_exporter": "python",
   "pygments_lexer": "ipython3",
   "version": "3.7.3"
  }
 },
 "nbformat": 4,
 "nbformat_minor": 4
}
