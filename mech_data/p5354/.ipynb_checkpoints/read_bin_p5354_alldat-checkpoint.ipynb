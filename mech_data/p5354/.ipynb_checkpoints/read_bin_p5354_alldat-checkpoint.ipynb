{
 "cells": [
  {
   "cell_type": "code",
   "execution_count": 2,
   "metadata": {},
   "outputs": [
    {
     "name": "stdout",
     "output_type": "stream",
     "text": [
      "\n",
      "Name:  p4975Wes20\n",
      "Number of records: 7077587\n",
      "Number of columns: 21\n",
      "\n",
      "\n",
      "-------------------------------------------------\n",
      "|           Name|           Unit|        Records|\n",
      "-------------------------------------------------\n",
      "|        LP_Disp|            mic|        7077587|\n",
      "|     Shr_stress|            MPa|        7077587|\n",
      "|    normal_disp|         micron|        7077587|\n",
      "|  Apl_NorStress|            MPa|        7077587|\n",
      "|        Pc_disp|         micron|        7077587|\n",
      "|             Pc|            MPa|        7077587|\n",
      "|       Ppa_disp|         micron|        7077587|\n",
      "|            Ppa|            MPa|        7077587|\n",
      "|        Pp_disp|         micron|        7077587|\n",
      "|             Pp|            MPa|        7077587|\n",
      "|           Time|            sec|        7077587|\n",
      "|   effNorStress|            MPa|        7077587|\n",
      "|             Qa|           m^3s|        7077587|\n",
      "|              Q|           m^3s|        7077587|\n",
      "|          Qdiff|           m^3s|        7077587|\n",
      "|           Qavg|           m^3s|        7077587|\n",
      "|         PpDiff|            MPa|        7077587|\n",
      "|           perm|            m^2|        7077587|\n",
      "|           Sync|             it|        7077587|\n",
      "|        IntDisp|         micron|        7077587|\n",
      "|             mu|              .|        7077587|\n",
      "-------------------------------------------------\n"
     ]
    }
   ],
   "source": [
    "from ReadBinBiax import *\n",
    "\n",
    "p5354dat = ReadBinBiax('/Users/clay/Documents/research/fracture_aperture/mech_data/p5354_data_bin','little')"
   ]
  },
  {
   "cell_type": "code",
   "execution_count": 3,
   "metadata": {},
   "outputs": [],
   "source": [
    "# p4966dat.to_csv('/home/clay/Documents/research/fracture_doe/p4966/p4966_data_csv')"
   ]
  },
  {
   "cell_type": "code",
   "execution_count": 3,
   "metadata": {},
   "outputs": [],
   "source": [
    "np.savez('/Users/clay/Documents/research/fracture_aperture/mech_data/p5354_data_npz',p5354dat)"
   ]
  }
 ],
 "metadata": {
  "kernelspec": {
   "display_name": "Python 3",
   "language": "python",
   "name": "python3"
  },
  "language_info": {
   "codemirror_mode": {
    "name": "ipython",
    "version": 3
   },
   "file_extension": ".py",
   "mimetype": "text/x-python",
   "name": "python",
   "nbconvert_exporter": "python",
   "pygments_lexer": "ipython3",
   "version": "3.7.3"
  }
 },
 "nbformat": 4,
 "nbformat_minor": 4
}
