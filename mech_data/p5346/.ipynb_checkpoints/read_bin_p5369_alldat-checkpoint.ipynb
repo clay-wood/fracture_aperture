{
 "cells": [
  {
   "cell_type": "code",
   "execution_count": 1,
   "metadata": {},
   "outputs": [],
   "source": [
    "from ReadBinBiax import *"
   ]
  },
  {
   "cell_type": "markdown",
   "metadata": {},
   "source": [
    "## Part A"
   ]
  },
  {
   "cell_type": "code",
   "execution_count": null,
   "metadata": {},
   "outputs": [
    {
     "name": "stdout",
     "output_type": "stream",
     "text": [
      "\n",
      "Name:  p5346WGInOsc1\n",
      "Number of records: 41640426\n",
      "Number of columns: 7\n",
      "\n",
      "\n",
      "-------------------------------------------------\n",
      "|           Name|           Unit|        Records|\n",
      "-------------------------------------------------\n",
      "|       hor_disp|             um|       41640426|\n",
      "|        Hstress|            MPa|       41640426|\n",
      "|       Int_disp|             um|       41640426|\n",
      "|         AmpOut|              V|       41640426|\n",
      "|           Sync|              V|       41640426|\n",
      "|    Samp_period|           msec|       41640426|\n",
      "|           Time|            sec|       41640426|\n",
      "-------------------------------------------------\n"
     ]
    }
   ],
   "source": [
    "p5346adat = ReadBinBiax('/Users/clay/Documents/research/fracture_aperture/mech_data/p5346/p5346a_data_bin','little')"
   ]
  },
  {
   "cell_type": "code",
   "execution_count": null,
   "metadata": {},
   "outputs": [],
   "source": [
    "np.savez('/Users/clay/Documents/research/fracture_aperture/mech_data/p5346/p5346a_data_npz',p5346adat)\n",
    "del p5346adat"
   ]
  },
  {
   "cell_type": "markdown",
   "metadata": {},
   "source": [
    "## Part B"
   ]
  },
  {
   "cell_type": "code",
   "execution_count": null,
   "metadata": {},
   "outputs": [],
   "source": [
    "p5346bdat = ReadBinBiax('/Users/clay/Documents/research/fracture_aperture/mech_data/p5346/p5346b_data_bin','little')"
   ]
  },
  {
   "cell_type": "code",
   "execution_count": null,
   "metadata": {},
   "outputs": [],
   "source": [
    "np.savez('/Users/clay/Documents/research/fracture_aperture/mech_data/p5346/p5346b_data_npz',p5346bdat)\n",
    "del p5346bdat"
   ]
  },
  {
   "cell_type": "markdown",
   "metadata": {},
   "source": [
    "## Part C"
   ]
  },
  {
   "cell_type": "code",
   "execution_count": null,
   "metadata": {},
   "outputs": [],
   "source": [
    "p5346cdat = ReadBinBiax('/Users/clay/Documents/research/fracture_aperture/mech_data/p5346/p5346c_data_bin','little')"
   ]
  },
  {
   "cell_type": "code",
   "execution_count": null,
   "metadata": {},
   "outputs": [],
   "source": [
    "np.savez('/Users/clay/Documents/research/fracture_aperture/mech_data/p5346/p5346c_data_npz',p5346cdat)\n",
    "del p5346cdat"
   ]
  },
  {
   "cell_type": "markdown",
   "metadata": {},
   "source": [
    "## Part D"
   ]
  },
  {
   "cell_type": "code",
   "execution_count": null,
   "metadata": {},
   "outputs": [],
   "source": [
    "p5346ddat = ReadBinBiax('/Users/clay/Documents/research/fracture_aperture/mech_data/p5346/p5346d_data_bin','little')"
   ]
  },
  {
   "cell_type": "code",
   "execution_count": null,
   "metadata": {},
   "outputs": [],
   "source": [
    "np.savez('/Users/clay/Documents/research/fracture_aperture/mech_data/p5346/p5346d_data_npz',p5346ddat)\n",
    "del p5346ddat"
   ]
  },
  {
   "cell_type": "code",
   "execution_count": null,
   "metadata": {},
   "outputs": [],
   "source": []
  }
 ],
 "metadata": {
  "kernelspec": {
   "display_name": "Python 3",
   "language": "python",
   "name": "python3"
  },
  "language_info": {
   "codemirror_mode": {
    "name": "ipython",
    "version": 3
   },
   "file_extension": ".py",
   "mimetype": "text/x-python",
   "name": "python",
   "nbconvert_exporter": "python",
   "pygments_lexer": "ipython3",
   "version": "3.7.3"
  }
 },
 "nbformat": 4,
 "nbformat_minor": 4
}
