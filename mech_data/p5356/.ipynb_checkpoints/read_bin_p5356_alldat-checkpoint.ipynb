{
 "cells": [
  {
   "cell_type": "code",
   "execution_count": 1,
   "metadata": {},
   "outputs": [],
   "source": [
    "from ReadBinBiax import *"
   ]
  },
  {
   "cell_type": "markdown",
   "metadata": {},
   "source": [
    "## Part A"
   ]
  },
  {
   "cell_type": "code",
   "execution_count": 2,
   "metadata": {},
   "outputs": [
    {
     "name": "stdout",
     "output_type": "stream",
     "text": [
      "\n",
      "Name:  p5356WGFrac3-20\n",
      "Number of records: 42673260\n",
      "Number of columns: 7\n",
      "\n",
      "\n",
      "-------------------------------------------------\n",
      "|           Name|           Unit|        Records|\n",
      "-------------------------------------------------\n",
      "|       hor_disp|             um|       42673260|\n",
      "|        Hstress|            MPa|       42673260|\n",
      "|       Int_disp|             um|       42673260|\n",
      "|      HorStress|            MPa|       42673260|\n",
      "|           Sync|              V|       42673260|\n",
      "|    Samp_period|           msec|       42673260|\n",
      "|           Time|            sec|       42673260|\n",
      "-------------------------------------------------\n"
     ]
    }
   ],
   "source": [
    "p5356adat = ReadBinBiax('/Users/clay/Documents/research/fracture_aperture/mech_data/p5356/p5356a_data_bin','little')"
   ]
  },
  {
   "cell_type": "code",
   "execution_count": 4,
   "metadata": {},
   "outputs": [],
   "source": [
    "np.savez('/Users/clay/Documents/research/fracture_aperture/mech_data/p5356/p5356a_data_npz',p5356adat)\n",
    "del p5356adat"
   ]
  },
  {
   "cell_type": "markdown",
   "metadata": {},
   "source": [
    "## Part B"
   ]
  },
  {
   "cell_type": "code",
   "execution_count": 2,
   "metadata": {},
   "outputs": [
    {
     "name": "stdout",
     "output_type": "stream",
     "text": [
      "\n",
      "Name:  p5356WGFrac3-20b\n",
      "Number of records: 42612177\n",
      "Number of columns: 7\n",
      "\n",
      "\n",
      "-------------------------------------------------\n",
      "|           Name|           Unit|        Records|\n",
      "-------------------------------------------------\n",
      "|        HorDisp|             um|       42612177|\n",
      "|     HorStresss|            MPa|       42612177|\n",
      "|        IntDisp|             um|       42612177|\n",
      "|         AmpOut|              V|       42612177|\n",
      "|           Sync|              V|       42612177|\n",
      "|    Samp_period|           msec|       42612177|\n",
      "|           Time|            sec|       42612177|\n",
      "-------------------------------------------------\n"
     ]
    }
   ],
   "source": [
    "p5356bdat = ReadBinBiax('/Users/clay/Documents/research/fracture_aperture/mech_data/p5356/p5356b_data_bin','little')"
   ]
  },
  {
   "cell_type": "code",
   "execution_count": 3,
   "metadata": {},
   "outputs": [],
   "source": [
    "np.savez('/Users/clay/Documents/research/fracture_aperture/mech_data/p5356/p5356b_data_npz',p5356bdat)\n",
    "del p5356bdat"
   ]
  },
  {
   "cell_type": "markdown",
   "metadata": {},
   "source": [
    "## Part C"
   ]
  },
  {
   "cell_type": "code",
   "execution_count": 4,
   "metadata": {},
   "outputs": [
    {
     "name": "stdout",
     "output_type": "stream",
     "text": [
      "\n",
      "Name:  p5356WGFrac3-20c\n",
      "Number of records: 42938595\n",
      "Number of columns: 7\n",
      "\n",
      "\n",
      "-------------------------------------------------\n",
      "|           Name|           Unit|        Records|\n",
      "-------------------------------------------------\n",
      "|        HorDisp|             um|       42938595|\n",
      "|      HorStress|            MPa|       42938595|\n",
      "|        IntDisp|             um|       42938595|\n",
      "|         AmpOut|              V|       42938595|\n",
      "|           Sync|              V|       42938595|\n",
      "|    Samp_period|           msec|       42938595|\n",
      "|           Time|            sec|       42938595|\n",
      "-------------------------------------------------\n"
     ]
    }
   ],
   "source": [
    "p5356cdat = ReadBinBiax('/Users/clay/Documents/research/fracture_aperture/mech_data/p5356/p5356c_data_bin','little')"
   ]
  },
  {
   "cell_type": "code",
   "execution_count": 5,
   "metadata": {},
   "outputs": [],
   "source": [
    "np.savez('/Users/clay/Documents/research/fracture_aperture/mech_data/p5356/p5356c_data_npz',p5356cdat)\n",
    "del p5356cdat"
   ]
  },
  {
   "cell_type": "markdown",
   "metadata": {},
   "source": [
    "## Part D"
   ]
  },
  {
   "cell_type": "code",
   "execution_count": 2,
   "metadata": {},
   "outputs": [
    {
     "name": "stdout",
     "output_type": "stream",
     "text": [
      "\n",
      "Name:  p5356WGFrac3-20d\n",
      "Number of records: 42691917\n",
      "Number of columns: 7\n",
      "\n",
      "\n",
      "-------------------------------------------------\n",
      "|           Name|           Unit|        Records|\n",
      "-------------------------------------------------\n",
      "|        HorDisp|             um|       42691917|\n",
      "|      HorStress|            MPa|       42691917|\n",
      "|        IntDisp|             um|       42691917|\n",
      "|         AmpOut|              V|       42691917|\n",
      "|           Sync|              V|       42691917|\n",
      "|    Samp_period|           msec|       42691917|\n",
      "|           Time|            sec|       42691917|\n",
      "-------------------------------------------------\n"
     ]
    }
   ],
   "source": [
    "p5356ddat = ReadBinBiax('/Users/clay/Documents/research/fracture_aperture/mech_data/p5356/p5356d_data_bin','little')"
   ]
  },
  {
   "cell_type": "code",
   "execution_count": 3,
   "metadata": {},
   "outputs": [],
   "source": [
    "np.savez('/Users/clay/Documents/research/fracture_aperture/mech_data/p5356/p5356d_data_npz',p5356ddat)\n",
    "del p5356ddat"
   ]
  },
  {
   "cell_type": "code",
   "execution_count": null,
   "metadata": {},
   "outputs": [],
   "source": []
  }
 ],
 "metadata": {
  "kernelspec": {
   "display_name": "Python 3",
   "language": "python",
   "name": "python3"
  },
  "language_info": {
   "codemirror_mode": {
    "name": "ipython",
    "version": 3
   },
   "file_extension": ".py",
   "mimetype": "text/x-python",
   "name": "python",
   "nbconvert_exporter": "python",
   "pygments_lexer": "ipython3",
   "version": "3.7.3"
  }
 },
 "nbformat": 4,
 "nbformat_minor": 4
}
